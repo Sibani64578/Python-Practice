{
 "cells": [
  {
   "cell_type": "markdown",
   "id": "da5de716-a053-41a5-8c69-f9dc724d2999",
   "metadata": {},
   "source": [
    "# Palindrome number\n",
    "# A. By Suing Split Method"
   ]
  },
  {
   "cell_type": "code",
   "execution_count": 1,
   "id": "215f907f-1606-4581-a824-58b12e5986a7",
   "metadata": {},
   "outputs": [
    {
     "name": "stdin",
     "output_type": "stream",
     "text": [
      "enter the name: shi\n"
     ]
    },
    {
     "name": "stdout",
     "output_type": "stream",
     "text": [
      "no\n"
     ]
    }
   ],
   "source": [
    "s=input('enter the name:')\n",
    "def palindrome(s):\n",
    "    temp=s[::-1]\n",
    "    if s== temp:\n",
    "        print(\"Yes \")\n",
    "    else:\n",
    "        print(\"no\")\n",
    "palindrome(s)"
   ]
  },
  {
   "cell_type": "code",
   "execution_count": null,
   "id": "c7d20a33-0b20-4ce3-b2e9-cdbda29118a8",
   "metadata": {},
   "outputs": [],
   "source": [
    "#By using indexing / using for loop\n",
    "s=input(\"enter the name:\")\n",
    "def palindrome2(s):\n",
    "    n=len(s)\n",
    "    print(s)\n",
    "    for i in range(n):\n",
    "        if s[i]!=s[n-i-1]:\n",
    "            return False\n",
    "    return True\n",
    "print(palindrome2(s))"
   ]
  },
  {
   "cell_type": "code",
   "execution_count": null,
   "id": "3bac387b-3dad-43d8-bf28-bd1291bbe1ca",
   "metadata": {},
   "outputs": [],
   "source": [
    "# By using Inbuilt functions - reversed and join\n",
    "s=input(\"enter the name:\")\n",
    "def palindrome3(s):\n",
    "    temp=''.join(reversed(s))\n",
    "    print(temp)\n",
    "    if s==temp:\n",
    "        return True\n",
    "    else:\n",
    "        return False\n",
    "print(palindrome3(s))"
   ]
  },
  {
   "cell_type": "code",
   "execution_count": null,
   "id": "6b027198-e3e5-4ccb-9af1-c49055c96747",
   "metadata": {},
   "outputs": [],
   "source": [
    "#by using while loop.\n",
    "s=input(\"enter the name:\")\n",
    "def palindrome4(s):\n",
    "    n=len(s)\n",
    "    first=0\n",
    "    last=n-1\n",
    "    while (first<last):\n",
    "        if s[first]==s[last]:\n",
    "            first +=1 #first=first+1\n",
    "            last -=1 #last=last+1\n",
    "        else:\n",
    "            return False\n",
    "    return True"
   ]
  },
  {
   "cell_type": "code",
   "execution_count": null,
   "id": "5b5f17ff-9db8-4b5d-8e86-c57addb745da",
   "metadata": {},
   "outputs": [],
   "source": [
    "#using number\n",
    "#by using split methood -converting number to string\n",
    "#not preferred\n",
    "n=int(input('enter the number:'))\n",
    "def palindrome5(n):\n",
    "    s=str(n)\n",
    "    temp=s[::-1]\n",
    "    if s==temp:\n",
    "        return True\n",
    "    else:\n",
    "        return False\n",
    "print(n)\n",
    "print(palindrome5(n))"
   ]
  },
  {
   "cell_type": "code",
   "execution_count": 1,
   "id": "f7594260-74f2-4a96-85b8-1ff7a0a21779",
   "metadata": {},
   "outputs": [
    {
     "name": "stdin",
     "output_type": "stream",
     "text": [
      "enter the number: 121\n"
     ]
    },
    {
     "name": "stdout",
     "output_type": "stream",
     "text": [
      "121\n",
      "1\n",
      "2\n",
      "1\n",
      "True\n"
     ]
    }
   ],
   "source": [
    "#By using while loop\n",
    "n=int(input('enter the number:'))\n",
    "def palindrome6(n):\n",
    "    temp=n\n",
    "    rev_n=0\n",
    "    while(temp>0):\n",
    "        digit=temp%10\n",
    "        print(digit)\n",
    "        rev_n=rev_n*10+digit\n",
    "        temp=temp//10\n",
    "    if n== rev_n:\n",
    "        return True\n",
    "    else:\n",
    "        return False\n",
    "print(n)\n",
    "print(palindrome6(n))\n"
   ]
  },
  {
   "cell_type": "markdown",
   "id": "99c84070-ee2d-421c-abaa-38d8ef396dce",
   "metadata": {},
   "source": [
    "# 2.Fibonnaci series"
   ]
  },
  {
   "cell_type": "code",
   "execution_count": 5,
   "id": "d2a28af9-0fa1-4280-b299-e1b57cd5a328",
   "metadata": {},
   "outputs": [
    {
     "name": "stdout",
     "output_type": "stream",
     "text": [
      "0\n",
      "1\n",
      "1\n",
      "2\n",
      "3\n",
      "5\n",
      "8\n",
      "13\n",
      "21\n",
      "34\n"
     ]
    }
   ],
   "source": [
    "# Fibonnaci series\n",
    "#using while loop\n",
    "#0 1 1 2 3 5 8 13 21...\n",
    "#n=int(input(\"enter the number:\"))\n",
    "def fibonnachi(n):\n",
    "    a,b=0,1\n",
    "    print(a)\n",
    "    while (b<n):\n",
    "        print(b)\n",
    "        c=a+b\n",
    "        a=b\n",
    "        b=c\n",
    "        \n",
    "fibonnachi(50)"
   ]
  },
  {
   "cell_type": "code",
   "execution_count": 4,
   "id": "f9c81259-bc6c-4d9e-8ef2-dbe6b971039d",
   "metadata": {},
   "outputs": [
    {
     "name": "stdout",
     "output_type": "stream",
     "text": [
      "0\n",
      "1\n",
      "1\n",
      "2\n",
      "3\n",
      "5\n",
      "8\n",
      "13\n",
      "21\n",
      "34\n"
     ]
    }
   ],
   "source": [
    "#n=int(input(\"enter the number:\"))\n",
    "def fibonnachi1(n):\n",
    "    a,b=0,1\n",
    "    print(a)\n",
    "    while (b<n):\n",
    "        print(b)\n",
    "        a,b=b,a+b\n",
    "fibonnachi1(50)"
   ]
  },
  {
   "cell_type": "code",
   "execution_count": null,
   "id": "09e850c8-bb44-444c-8255-df36cdc6c65b",
   "metadata": {},
   "outputs": [],
   "source": [
    "def fibonnachi2(n):\n",
    "    a,b=0,1\n",
    "    if n==1:\n",
    "        print(a)\n",
    "    else:\n",
    "        print(a)\n",
    "        print(b)\n",
    "        for i in range(2,n):\n",
    "            c=a+b\n",
    "            a=b\n",
    "            b=c\n",
    "            print(c)\n",
    "fibonnachi2(10)"
   ]
  },
  {
   "cell_type": "code",
   "execution_count": null,
   "id": "ca5e5ff9-6879-45df-97e9-e9f3911bcc19",
   "metadata": {},
   "outputs": [],
   "source": [
    "#function recorsoin\n",
    "def fibonacci(n):\n",
    "    if n<=1:\n",
    "        return n\n",
    "    else:\n",
    "        return (fibonacci(n-1)+fibonacci(n-2))\n",
    "n=10\n",
    "if n<=0:\n",
    "    print('Invalid')\n",
    "else:\n",
    "    for i in range(n):\n",
    "        print(fibonacci(i))"
   ]
  },
  {
   "cell_type": "markdown",
   "id": "b71df09d-40d1-494d-9d03-9b41f33623e0",
   "metadata": {},
   "source": [
    "# Compress String\n"
   ]
  },
  {
   "cell_type": "code",
   "execution_count": 1,
   "id": "25e6253c-a0ee-47a5-9a1b-60775f84cb9c",
   "metadata": {},
   "outputs": [
    {
     "name": "stdout",
     "output_type": "stream",
     "text": [
      "a2b2c2d2e3\n"
     ]
    }
   ],
   "source": [
    "#input=aabbccddeeff\n",
    "#output=a2b2c2d2e2f2\n",
    "#for loop\n",
    "def compress(s):\n",
    "    n=len(s)\n",
    "    new_s=''\n",
    "    count=1\n",
    "    for i in range(n-1):\n",
    "        if s[i]==s[i+1]:\n",
    "            count =count+1\n",
    "        else:\n",
    "            new_s=new_s+s[i]+str(count)\n",
    "            count=1\n",
    "    new_s=new_s+s[n-1]+str(count)\n",
    "    return new_s\n",
    "s='aabbccddeee'\n",
    "print(compress(s))\n",
    "    "
   ]
  },
  {
   "cell_type": "code",
   "execution_count": null,
   "id": "cb21d308-1824-4771-aa31-d5cba994a1a3",
   "metadata": {},
   "outputs": [],
   "source": [
    "#using while loop\n",
    "def compress2(s):\n",
    "    n=len(s)\n",
    "    i=0\n",
    "    new_s=''\n",
    "    while(i<n-1):\n",
    "        count=1\n",
    "        while(i<n-1 and s[i]==s[i+1]):\n",
    "            count=count+1\n",
    "            i=i+1\n",
    "        new_s=new_s+s[i-1]+str(count)\n",
    "    return new_s\n",
    "s='aann'\n",
    "print(compress2(s))"
   ]
  },
  {
   "cell_type": "markdown",
   "id": "1be8d83e-0a95-4d85-b202-da5e78246cca",
   "metadata": {},
   "source": [
    "# FizzBuzz"
   ]
  },
  {
   "cell_type": "code",
   "execution_count": 3,
   "id": "0bf1c3d6-8226-4fb7-8895-3e1580cd977a",
   "metadata": {},
   "outputs": [
    {
     "name": "stdout",
     "output_type": "stream",
     "text": [
      "1\n",
      "2\n",
      "Fizz\n",
      "4\n",
      "BUZZ\n",
      "Fizz\n",
      "7\n",
      "8\n",
      "Fizz\n",
      "BUZZ\n",
      "11\n",
      "Fizz\n",
      "13\n",
      "14\n",
      "Fizzbuzz\n",
      "16\n",
      "17\n",
      "Fizz\n",
      "19\n",
      "BUZZ\n"
     ]
    }
   ],
   "source": [
    "#for loop\n",
    "#3-Fizz\n",
    "#5=BUZZ\n",
    "#6=Fizz\n",
    "#15=FizzBuzz\n",
    "def Fizzbuzz(n):\n",
    "    for i in range(1,n+1):\n",
    "        if i%3==0 and i%5==0 :\n",
    "            print(\"Fizzbuzz\")\n",
    "        elif i%3==0:\n",
    "            print(\"Fizz\")\n",
    "        elif i%5==0:\n",
    "            print('BUZZ')\n",
    "        else:\n",
    "            print(i)\n",
    "Fizzbuzz(20)"
   ]
  },
  {
   "cell_type": "code",
   "execution_count": 2,
   "id": "49cdec2f-ca75-420d-8546-ce8ed6e6416d",
   "metadata": {},
   "outputs": [
    {
     "name": "stdout",
     "output_type": "stream",
     "text": [
      "1\n",
      "2\n",
      "fizz\n",
      "4\n",
      "Buzz\n",
      "fizz\n",
      "7\n",
      "8\n",
      "fizz\n",
      "Buzz\n",
      "11\n",
      "fizz\n",
      "13\n",
      "14\n",
      "fizzBuzz\n"
     ]
    }
   ],
   "source": [
    "#using dictionary\n",
    "def Fizzbuzz2(n):\n",
    "    d={3:'fizz',\n",
    "       5:'Buzz'}\n",
    "    for i in range(1,n+1):\n",
    "        result=''\n",
    "        for k,v in d.items():\n",
    "            if i%k==0:\n",
    "                result=result+v\n",
    "        if not result:\n",
    "            result=i\n",
    "        print(result)\n",
    "Fizzbuzz2(15)"
   ]
  },
  {
   "cell_type": "markdown",
   "id": "3aa4cd30-88b1-4426-80d0-359453c8f1e6",
   "metadata": {},
   "source": [
    "# Character Occurence"
   ]
  },
  {
   "cell_type": "code",
   "execution_count": 8,
   "id": "642fb103-a07b-4b46-8643-fde16a53b731",
   "metadata": {},
   "outputs": [
    {
     "name": "stdout",
     "output_type": "stream",
     "text": [
      "i\n"
     ]
    }
   ],
   "source": [
    "#Leat Repeating character in a string\n",
    "def least_char_occurence(s):\n",
    "    ch={}\n",
    "    for i in s:\n",
    "        if i in ch:\n",
    "            ch[i]=ch[i]+1\n",
    "        else:\n",
    "            ch[i]=1\n",
    "    result=min(ch,key=ch.get)\n",
    "    print(result)\n",
    "s=\"aaabbbhhhsssjjijs\"\n",
    "least_char_occurence(s)"
   ]
  },
  {
   "cell_type": "code",
   "execution_count": 9,
   "id": "0dcf9d58-9b81-4123-9770-a55ae99acc63",
   "metadata": {},
   "outputs": [
    {
     "name": "stdout",
     "output_type": "stream",
     "text": [
      "i\n"
     ]
    }
   ],
   "source": [
    "#using  inbuilt function counter\n",
    "from collections import Counter\n",
    "s=\"aaabbbhhhsssjjijs\"\n",
    "ch=Counter(s)\n",
    "result=min(ch,key=ch.get)\n",
    "print(result)"
   ]
  },
  {
   "cell_type": "code",
   "execution_count": 10,
   "id": "74f10ec8-6d09-4a57-9bde-a658079f84a6",
   "metadata": {},
   "outputs": [
    {
     "name": "stdout",
     "output_type": "stream",
     "text": [
      "2\n",
      "3\n"
     ]
    }
   ],
   "source": [
    "#2.Count of any particular element\n",
    "#by using count(for string ,number,list)\n",
    "l=[1,2,3,4,5,56,2,4]\n",
    "print(l.count(4))\n",
    "s=\"aaabbbhhhsssjjijs\"\n",
    "print(s.count('a'))"
   ]
  },
  {
   "cell_type": "code",
   "execution_count": 13,
   "id": "e4bf174d-7900-4fcc-b178-48239119eacd",
   "metadata": {},
   "outputs": [
    {
     "name": "stdout",
     "output_type": "stream",
     "text": [
      "{'a': 3, 'b': 3, 'h': 3, 's': 4, 'j': 3, 'i': 1}\n",
      "1\n"
     ]
    }
   ],
   "source": [
    "#Without using count/using dict\n",
    "def count_char_occurence(s,search_c):\n",
    "    ch={}\n",
    "    for i in s:\n",
    "        if i in ch:\n",
    "            ch[i]=ch[i]+1\n",
    "        else:\n",
    "            ch[i]=1\n",
    "    print(ch)\n",
    "    try:\n",
    "        print(ch[search_c])\n",
    "    except:\n",
    "        print(0)\n",
    "s=\"aaabbbhhhsssjjijs\"\n",
    "count_char_occurence(s,'i')"
   ]
  },
  {
   "cell_type": "code",
   "execution_count": 14,
   "id": "988e2c6d-d7ea-4a71-b26b-ffe0d7258ca0",
   "metadata": {},
   "outputs": [
    {
     "name": "stdout",
     "output_type": "stream",
     "text": [
      "{'a': 3, 'b': 3, 'h': 3, 's': 4, 'j': 3, 'i': 1}\n"
     ]
    }
   ],
   "source": [
    "#count of all elements\n",
    "def least_char_occurence(s):\n",
    "    ch={}\n",
    "    for i in s:\n",
    "        if i in ch:\n",
    "            ch[i]=ch[i]+1\n",
    "        else:\n",
    "            ch[i]=1\n",
    "    print(ch)\n",
    "s=\"aaabbbhhhsssjjijs\"\n",
    "least_char_occurence(s)"
   ]
  },
  {
   "cell_type": "markdown",
   "id": "d06c2620-5934-4b71-925a-bd83743314fd",
   "metadata": {},
   "source": [
    "# Prime number"
   ]
  },
  {
   "cell_type": "code",
   "execution_count": 3,
   "id": "614c6633-c06b-42b3-9260-84546512a431",
   "metadata": {},
   "outputs": [
    {
     "name": "stdout",
     "output_type": "stream",
     "text": [
      "NO! Its not a prime number\n"
     ]
    }
   ],
   "source": [
    "# 1 and wone\n",
    "# To chake the number is prime num or not\n",
    "#using Flag\n",
    "def prime_number(n):\n",
    "    flag=False\n",
    "    if n>1:\n",
    "        for i in range(2,(n//2+1)):\n",
    "            if n%1==0:\n",
    "                flag=True\n",
    "                break\n",
    "    if flag:\n",
    "        return\"NO! Its not a prime number\" \n",
    "    else:\n",
    "        return \"Yes ! Its a prime number\"\n",
    "print(prime_number(5))"
   ]
  },
  {
   "cell_type": "code",
   "execution_count": 21,
   "id": "9ac0149d-54a4-4863-bc8e-ae0801e6c89a",
   "metadata": {},
   "outputs": [
    {
     "name": "stdout",
     "output_type": "stream",
     "text": [
      "NO! Its not a prime number\n"
     ]
    }
   ],
   "source": [
    "#for else using \n",
    "def prime_number2(n):\n",
    "    if n>1:\n",
    "        for i in range(2,(n//2+1)):\n",
    "            if n%i==0:\n",
    "                print(\"NO! Its not a prime number\")\n",
    "                break\n",
    "        else:\n",
    "            print(\"Yes ! Its a prime number\")\n",
    "    else:\n",
    "        print(\"no ! Its a prime number\")\n",
    "prime_number2(4)\n",
    "            "
   ]
  },
  {
   "cell_type": "code",
   "execution_count": 24,
   "id": "a0a5e551-0f48-47ff-b801-ec250d3bc706",
   "metadata": {},
   "outputs": [
    {
     "name": "stdout",
     "output_type": "stream",
     "text": [
      "2\n",
      "3\n",
      "5\n",
      "7\n",
      "11\n",
      "13\n",
      "17\n",
      "19\n",
      "23\n",
      "29\n",
      "31\n",
      "37\n",
      "41\n",
      "43\n",
      "47\n"
     ]
    }
   ],
   "source": [
    "#Display all prime numbeer within an interval\n",
    "def prime_number3(start,end):\n",
    "    for n in range(start,end):\n",
    "        if n>1:\n",
    "            for i in range(2,(n//2+1)):\n",
    "                if n%i==0:\n",
    "                    break\n",
    "            else:\n",
    "                print(n)\n",
    "prime_number3(1,50)\n",
    "            "
   ]
  },
  {
   "cell_type": "markdown",
   "id": "9b49d43f-17e2-4508-919a-1ebdc44a26af",
   "metadata": {},
   "source": [
    "# Modify String Format"
   ]
  },
  {
   "cell_type": "code",
   "execution_count": 28,
   "id": "6f907cb1-ef4e-4817-80a0-6f1a30b8d2ea",
   "metadata": {},
   "outputs": [
    {
     "name": "stdout",
     "output_type": "stream",
     "text": [
      "tHIS\n",
      "tHIS.iS\n",
      "tHIS.iS.a\n",
      "tHIS.iS.a.gOOD\n",
      "tHIS.iS.a.gOOD.mORNING\n"
     ]
    }
   ],
   "source": [
    "\n",
    "#input=This_Is_A_Good_Morning\n",
    "#_=.\n",
    "def string_format(s):\n",
    "    l=[]\n",
    "    temp=s.split('_')\n",
    "    for i in temp:\n",
    "        l.append(i[0].lower()+i[1:].upper())\n",
    "        s='.'.join(l)\n",
    "        print(s)\n",
    "s=\"This_Is_A_Good_Morning\"\n",
    "string_format(s)"
   ]
  },
  {
   "cell_type": "code",
   "execution_count": 31,
   "id": "69e19a28-ca7b-46f6-877d-ba35067578c2",
   "metadata": {},
   "outputs": [
    {
     "name": "stdout",
     "output_type": "stream",
     "text": [
      "tHIS.iS.a.gOOD.mORNING\n"
     ]
    }
   ],
   "source": [
    "#modify String Format\n",
    "#input=This_Is_A_Good_Morning\n",
    "#_=.\n",
    "def string_format(s):\n",
    "    new_s=''\n",
    "    temp=s.split('_')\n",
    "    for i in temp:\n",
    "        new_s=new_s+i[0].lower()+i[1:].upper()+'.'\n",
    "    new_s=new_s[:-1]\n",
    "    print(new_s)\n",
    "s=\"This_Is_A_Good_Morning\"\n",
    "string_format(s)\n"
   ]
  },
  {
   "cell_type": "markdown",
   "id": "4c68ab5f-fd00-4b64-9ced-0aa54f5af769",
   "metadata": {},
   "source": [
    "# Second Largest Number"
   ]
  },
  {
   "cell_type": "code",
   "execution_count": 37,
   "id": "99b12504-e655-4c1d-b20c-763f3e816fef",
   "metadata": {},
   "outputs": [
    {
     "name": "stdout",
     "output_type": "stream",
     "text": [
      "40\n"
     ]
    }
   ],
   "source": [
    "#Second Highest bumber in a list\n",
    "#using for loop\n",
    "def second_highest_number(l):\n",
    "    if l[0]>l[1]:\n",
    "        first=l[0]\n",
    "        second=l[1]\n",
    "    else:\n",
    "        first=l[1]\n",
    "        second=l[0]\n",
    "    for i in range(2,len(l)):\n",
    "        if l[i]>first:\n",
    "            second=first\n",
    "            first=l[i]\n",
    "        elif l[i]>second and first!=l[i]:\n",
    "            second=l[i]\n",
    "    return second\n",
    "l=[10,20,30,40,52]\n",
    "print(second_highest_number(l))"
   ]
  },
  {
   "cell_type": "code",
   "execution_count": 1,
   "id": "38caa2cf-7e01-4649-bb05-266dedfef53a",
   "metadata": {},
   "outputs": [
    {
     "name": "stdout",
     "output_type": "stream",
     "text": [
      "3\n"
     ]
    }
   ],
   "source": [
    "#using reverse sort\n",
    "def second_histe(l):\n",
    "    l.sort(reverse=True)\n",
    "    print(l[1])\n",
    "l=[2,3,4]\n",
    "second_histe(l)"
   ]
  },
  {
   "cell_type": "markdown",
   "id": "128506f4-45e1-4ef4-bc9d-0ba9d789408a",
   "metadata": {},
   "source": [
    "# Armstrong Number\n"
   ]
  },
  {
   "cell_type": "code",
   "execution_count": 2,
   "id": "9ac5c3d5-91fb-4de7-a572-de5972fc9d38",
   "metadata": {},
   "outputs": [
    {
     "name": "stdout",
     "output_type": "stream",
     "text": [
      "Not a amastrong number\n"
     ]
    }
   ],
   "source": [
    "def armstrong(n):\n",
    "    sum=0\n",
    "    temp=n\n",
    "    while temp>0:\n",
    "        digit=temp%10\n",
    "        sum=sum+(digit**3)\n",
    "        temp=temp//10\n",
    "    if n==sum:\n",
    "        print(\"Yes its aamstrong number\")\n",
    "    else:\n",
    "        print(\"Not a amastrong number\")\n",
    "n=15\n",
    "armstrong(n)"
   ]
  },
  {
   "cell_type": "code",
   "execution_count": 3,
   "id": "672ed62f-5b1f-4584-bd72-08ad317ab500",
   "metadata": {},
   "outputs": [
    {
     "name": "stdout",
     "output_type": "stream",
     "text": [
      "0\n",
      "1\n",
      "153\n",
      "370\n",
      "371\n",
      "407\n"
     ]
    }
   ],
   "source": [
    "def armstrong(start,end):\n",
    "    for n in range(start,end):\n",
    "        sum=0\n",
    "        temp=n\n",
    "        while temp>0:\n",
    "            digit=temp%10\n",
    "            sum=sum+(digit**3)\n",
    "            temp=temp//10\n",
    "        if n==sum:\n",
    "            print(n)\n",
    "armstrong(0,500)"
   ]
  },
  {
   "cell_type": "markdown",
   "id": "e77dda19-bed4-4fd3-8166-f480de4184ae",
   "metadata": {},
   "source": [
    "# Factorial"
   ]
  },
  {
   "cell_type": "code",
   "execution_count": 4,
   "id": "dc3349a5-18d7-4899-b4d2-365fe3367541",
   "metadata": {},
   "outputs": [
    {
     "name": "stdout",
     "output_type": "stream",
     "text": [
      "120\n"
     ]
    }
   ],
   "source": [
    "def factorial(n):\n",
    "    facto=1\n",
    "    for i in range(1,n+1):\n",
    "        facto=facto*i\n",
    "    return facto\n",
    "print(factorial(5))"
   ]
  },
  {
   "cell_type": "code",
   "execution_count": 6,
   "id": "bd54a4f1-0d43-4ddc-97a1-ef1f73bbac6a",
   "metadata": {},
   "outputs": [
    {
     "name": "stdout",
     "output_type": "stream",
     "text": [
      "Yes\n"
     ]
    }
   ],
   "source": [
    "# Factorial or not\n",
    "def fact(n):\n",
    "    temp=n\n",
    "    sum=0\n",
    "    while (temp>0):\n",
    "        digit=temp%10\n",
    "        temp=temp//10\n",
    "        fact=factorial(digit)\n",
    "        sum=sum+fact\n",
    "    if sum==n:\n",
    "        print('Yes')\n",
    "    else:\n",
    "        printt('No')\n",
    "fact(145)\n",
    "    "
   ]
  },
  {
   "cell_type": "code",
   "execution_count": null,
   "id": "764cc47c-5f88-453c-81e0-91a12501b5b8",
   "metadata": {},
   "outputs": [],
   "source": [
    "def sum_of_factrors(start,end):\n",
    "    for n in range(start,end):\n",
    "        temp=n\n",
    "        sum=0\n",
    "        while(temp>0):\n",
    "            digit=temp%10\n",
    "            temp=temp//10\n",
    "            fact=factorial(digit)\n",
    "            sum=sum+fact"
   ]
  },
  {
   "cell_type": "code",
   "execution_count": null,
   "id": "e3567879-74b4-4bd8-b9a9-72b0097f1e61",
   "metadata": {},
   "outputs": [],
   "source": []
  }
 ],
 "metadata": {
  "kernelspec": {
   "display_name": "Python 3 (ipykernel)",
   "language": "python",
   "name": "python3"
  },
  "language_info": {
   "codemirror_mode": {
    "name": "ipython",
    "version": 3
   },
   "file_extension": ".py",
   "mimetype": "text/x-python",
   "name": "python",
   "nbconvert_exporter": "python",
   "pygments_lexer": "ipython3",
   "version": "3.10.8"
  }
 },
 "nbformat": 4,
 "nbformat_minor": 5
}
